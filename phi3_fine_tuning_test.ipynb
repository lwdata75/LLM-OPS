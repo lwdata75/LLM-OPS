{
 "cells": [
  {
   "cell_type": "code",
   "execution_count": 6,
   "id": "44d9c3f6",
   "metadata": {},
   "outputs": [
    {
     "name": "stdout",
     "output_type": "stream",
     "text": [
      "🐍 Python version: 3.11.6\n",
      "🔥 PyTorch version: 2.9.0+cpu\n",
      "🤗 Transformers version: 4.46.3\n",
      "📦 PEFT version: 0.13.2\n",
      "🏋️ TRL version: 0.17.0\n",
      "💻 Platform: Windows\n",
      "⚠️ CUDA is not available. Training will use CPU (very slow).\n"
     ]
    }
   ],
   "source": [
    "# Import necessary libraries\n",
    "import os\n",
    "import sys\n",
    "import json\n",
    "import pandas as pd\n",
    "import torch\n",
    "from datasets import Dataset\n",
    "import transformers\n",
    "from transformers import (\n",
    "    AutoTokenizer, \n",
    "    AutoModelForCausalLM, \n",
    "    BitsAndBytesConfig,\n",
    "    TrainingArguments\n",
    ")\n",
    "import peft\n",
    "from peft import LoraConfig, get_peft_model, prepare_model_for_kbit_training\n",
    "import trl\n",
    "from trl import SFTTrainer, SFTConfig\n",
    "import platform\n",
    "\n",
    "# Add project root to path\n",
    "project_root = os.path.dirname(os.path.abspath('.'))\n",
    "sys.path.insert(0, project_root)\n",
    "\n",
    "print(f\"🐍 Python version: {platform.python_version()}\")\n",
    "print(f\"🔥 PyTorch version: {torch.__version__}\")\n",
    "print(f\"🤗 Transformers version: {transformers.__version__}\")\n",
    "print(f\"📦 PEFT version: {peft.__version__}\")\n",
    "print(f\"🏋️ TRL version: {trl.__version__}\")\n",
    "print(f\"💻 Platform: {platform.system()}\")\n",
    "\n",
    "# Check if CUDA is available\n",
    "if torch.cuda.is_available():\n",
    "    print(f\"🚀 CUDA is available! Device: {torch.cuda.get_device_name()}\")\n",
    "    print(f\"💾 CUDA memory: {torch.cuda.get_device_properties(0).total_memory / 1e9:.1f} GB\")\n",
    "else:\n",
    "    print(\"⚠️ CUDA is not available. Training will use CPU (very slow).\")"
   ]
  }
 ],
 "metadata": {
  "kernelspec": {
   "display_name": "llm-ops",
   "language": "python",
   "name": "python3"
  },
  "language_info": {
   "codemirror_mode": {
    "name": "ipython",
    "version": 3
   },
   "file_extension": ".py",
   "mimetype": "text/x-python",
   "name": "python",
   "nbconvert_exporter": "python",
   "pygments_lexer": "ipython3",
   "version": "3.11.6"
  }
 },
 "nbformat": 4,
 "nbformat_minor": 5
}
